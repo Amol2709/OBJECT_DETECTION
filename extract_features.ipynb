{
 "cells": [
  {
   "cell_type": "code",
   "execution_count": 1,
   "metadata": {},
   "outputs": [
    {
     "name": "stderr",
     "output_type": "stream",
     "text": [
      "C:\\ProgramData\\Anaconda3\\lib\\site-packages\\h5py\\__init__.py:36: FutureWarning: Conversion of the second argument of issubdtype from `float` to `np.floating` is deprecated. In future, it will be treated as `np.float64 == np.dtype(float).type`.\n",
      "  from ._conv import register_converters as _register_converters\n"
     ]
    }
   ],
   "source": [
    "from imutils import paths\n",
    "import random\n",
    "import cv2\n",
    "from AMOL.OBJECT_DETECTION import HELPERS\n",
    "from AMOL.DESCRIPTOR.hog import HOG\n",
    "from scipy import io\n",
    "import progressbar\n",
    "import numpy as np\n",
    "from sklearn.feature_extraction.image import extract_patches_2d\n",
    "from AMOL.UTILS import dataset\n",
    "import h5py"
   ]
  },
  {
   "cell_type": "code",
   "execution_count": null,
   "metadata": {},
   "outputs": [],
   "source": [
    "import argparse\n",
    "AP = argparse.ArgumentParser()\n",
    "AP.add_argument(\"-FN\",\"--FOLDER_NAME\",required=True)\n",
    "AP.add_argument(\"-W\",\"--WIDTH\",required=True)\n",
    "AP.add_argument(\"-H\",\"--HEIGHT\",required=True)\n",
    "ARGS = vars(AP.parse_args())"
   ]
  },
  {
   "cell_type": "code",
   "execution_count": null,
   "metadata": {},
   "outputs": [],
   "source": [
    "hog = HOG(orientations=9, pixelsPerCell=(4,4),\n",
    "\tcellsPerBlock=(2,2), normalize=True)"
   ]
  },
  {
   "cell_type": "code",
   "execution_count": null,
   "metadata": {},
   "outputs": [],
   "source": [
    "TRNPATH = list(paths.list_images(\"101_ObjectCategories\"+\"/\"+ARGS['FOLDER_NAME']))\n",
    "TRNPATH = random.sample(TRNPATH, int(len(TRNPATH) * 0.5))\n",
    "DATA = []\n",
    "LABELS=[]"
   ]
  },
  {
   "cell_type": "code",
   "execution_count": null,
   "metadata": {},
   "outputs": [],
   "source": [
    "import imutils\n",
    "import cv2\n",
    " \n",
    "def CROP(image, bb,dstSize):\n",
    "    padding=10\n",
    "   # dstSize=(ARGS['WIDTH'],ARGS['HEIGHT'])\n",
    "    (y, h, x, w) = bb\n",
    "    (x, y) = (max(x - padding, 0), max(y - padding, 0))\n",
    "    roi = image[y:h + padding, x:w + padding]\n",
    "    roi = cv2.resize(roi, dstSize, interpolation=cv2.INTER_AREA)\n",
    "    return roi\n"
   ]
  },
  {
   "cell_type": "code",
   "execution_count": null,
   "metadata": {},
   "outputs": [],
   "source": [
    "widgets = [\"Extracting: \", progressbar.Percentage(), \" \", progressbar.Bar(), \" \", progressbar.ETA()]\n",
    "pbar = progressbar.ProgressBar(maxval=len(TRNPATH), widgets=widgets).start()"
   ]
  },
  {
   "cell_type": "code",
   "execution_count": null,
   "metadata": {},
   "outputs": [],
   "source": [
    "for (i,TP) in enumerate(TRNPATH):\n",
    "    image = cv2.imread(TP)\n",
    "    image = cv2.cvtColor(image,cv2.COLOR_BGR2GRAY)\n",
    "    IM_ID =TP[TP.rfind(\"_\")+1:].replace(\".jpg\",\"\")\n",
    "    P = \"Annotations/{}/annotation_{}.mat\".format(ARGS['FOLDER_NAME'],IM_ID)\n",
    "    BB = io.loadmat(P)[\"box_coord\"][0]\n",
    "    roi = CROP(image,BB,(ARGS['WIDTH'],ARGS['HEIGHT']))\n",
    "    features = hog.describe(roi)\n",
    "    DATA.append(features)\n",
    "    LABELS.append(1)\n",
    "    pbar.update(i)\n",
    "    "
   ]
  },
  {
   "cell_type": "code",
   "execution_count": null,
   "metadata": {},
   "outputs": [],
   "source": [
    "pbar.finish()\n",
    "dstPaths = list(paths.list_images('sceneclass13'))\n",
    "pbar = progressbar.ProgressBar(maxval=500, widgets=widgets).start()\n",
    "print(\"[INFO] describing distraction ROIs...\")\n",
    " \n",
    "# loop over the desired number of distraction images\n",
    "for i in np.arange(0,500):\n",
    "\t# randomly select a distraction image, load it, convert it to grayscale, and\n",
    "\t# then extract random patches from the image\n",
    "\timage = cv2.imread(random.choice(dstPaths))\n",
    "\timage = cv2.cvtColor(image, cv2.COLOR_BGR2GRAY)\n",
    "\tpatches = extract_patches_2d(image,(ARGS['WIDTH'],ARGS['HEIGHT']),max_patches=10)\n",
    " \n",
    "\t# loop over the patches\n",
    "\tfor patch in patches:\n",
    "\t\t# extract features from the patch, then update the data and label list\n",
    "\t\tfeatures = hog.describe(patch)\n",
    "\t\tDATA.append(features)\n",
    "\t\tLABELS.append(-1)\n",
    " \n",
    "\t# update the progress bar\n",
    "\tpbar.update(i)"
   ]
  },
  {
   "cell_type": "code",
   "execution_count": null,
   "metadata": {},
   "outputs": [],
   "source": [
    "pbar.finish()"
   ]
  },
  {
   "cell_type": "code",
   "execution_count": null,
   "metadata": {},
   "outputs": [],
   "source": [
    "\n",
    "A = np.c_[LABELS,DATA]\n",
    "\n",
    "from sklearn.svm import SVC\n",
    "import pickle\n",
    "from AMOL.OBJECT_DETECTION import HELPERS\n",
    "import h5py\n",
    "#db = h5py.File(\"output/cars/car3_features.hdf5\", \"r\")\n",
    "(labels, data) = (A[:,0],A[:,1:])\n",
    "#db.close()\n",
    "print(\"[INFO] training classifier...\")\n",
    "model = SVC(kernel=\"linear\", C=0.01, probability=True, random_state=42)\n",
    "model.fit(data, labels)\n",
    " \n",
    "# dump the classifier to file\n",
    "print(\"[INFO] dumping classifier...\")\n",
    "f = open(\"output/cars/\"+ARGS['FOLDER_NAME'], \"wb\")\n",
    "f.write(pickle.dumps(model))\n",
    "f.close()"
   ]
  }
 ],
 "metadata": {
  "kernelspec": {
   "display_name": "Python 3",
   "language": "python",
   "name": "python3"
  },
  "language_info": {
   "codemirror_mode": {
    "name": "ipython",
    "version": 3
   },
   "file_extension": ".py",
   "mimetype": "text/x-python",
   "name": "python",
   "nbconvert_exporter": "python",
   "pygments_lexer": "ipython3",
   "version": "3.6.5"
  }
 },
 "nbformat": 4,
 "nbformat_minor": 2
}
