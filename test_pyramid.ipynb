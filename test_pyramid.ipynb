{
 "cells": [
  {
   "cell_type": "code",
   "execution_count": 1,
   "metadata": {},
   "outputs": [],
   "source": [
    "import cv2\n",
    "import argparse\n"
   ]
  },
  {
   "cell_type": "code",
   "execution_count": 24,
   "metadata": {},
   "outputs": [],
   "source": [
    "from AMOL.OBJECT_DETECTION.HELPERS import PYRAMID"
   ]
  },
  {
   "cell_type": "code",
   "execution_count": 25,
   "metadata": {},
   "outputs": [],
   "source": [
    "#AP = argparse.ArgumentParser()"
   ]
  },
  {
   "cell_type": "code",
   "execution_count": 26,
   "metadata": {},
   "outputs": [],
   "source": [
    "#AP.add_argument(\"-i\",\"--image\",required=True)\n",
    "#AP.add_argument(\"-s\",\"--scale\")"
   ]
  },
  {
   "cell_type": "code",
   "execution_count": 27,
   "metadata": {},
   "outputs": [],
   "source": [
    "#ARGS = vars(AP.parse_args())"
   ]
  },
  {
   "cell_type": "code",
   "execution_count": 28,
   "metadata": {},
   "outputs": [],
   "source": [
    "ARGS={'image':'ROB.jpg'}"
   ]
  },
  {
   "cell_type": "code",
   "execution_count": 29,
   "metadata": {},
   "outputs": [],
   "source": [
    "def PYRAMID(IMAGE):\n",
    "    import imutils\n",
    "    scale =1.5\n",
    "    yield IMAGE\n",
    "    while True:\n",
    "        WIDTH = int(IMAGE.shape[1]/scale)\n",
    "        IMAGE = imutils.resize(IMAGE,width=WIDTH)\n",
    "        if IMAGE.shape[0] <=30 or IMAGE.shape[1]<=30:\n",
    "            break\n",
    "        yield IMAGE\n"
   ]
  },
  {
   "cell_type": "code",
   "execution_count": 39,
   "metadata": {},
   "outputs": [],
   "source": [
    "def SLIDING_WINDOW(IMAGE,stepsize,windowsize):\n",
    "    for y in range(0,IMAGE.shape[0],stepsize):\n",
    "        for x in range(0,IMAGE.shape[1],stepsize):\n",
    "            yield(x,y,IMAGE[y:y+windowsize[1],x:x+windowsize[0]])"
   ]
  },
  {
   "cell_type": "code",
   "execution_count": 40,
   "metadata": {},
   "outputs": [],
   "source": [
    "I =cv2.imread(ARGS[\"image\"])\n",
    "import time\n",
    "for i,layer in enumerate(PYRAMID(I)):\n",
    "    for X,Y,window in SLIDING_WINDOW(layer,stepsize=32,windowsize=(64,64)):\n",
    "        #clone = layer.copy()\n",
    "        clone = layer.copy()\n",
    "        cv2.rectangle(clone, (X,Y), (X+64, Y + 64), (0, 255, 0), 2)\n",
    "        cv2.imshow(\"Window\", clone)\n",
    "        cv2.waitKey(1)\n",
    "        time.sleep(0.025)\n",
    "        \n",
    "    #cv2.imshow(\"layer {}\".format(i+1),layer)\n",
    "    #cv2.waitKey(0)"
   ]
  },
  {
   "cell_type": "code",
   "execution_count": 7,
   "metadata": {},
   "outputs": [],
   "source": [
    "X = cv2.imread(\"ROB.jpg\")\n",
    "Y = cv2.cvtColor(X,cv2.COLOR_BGR2GRAY)"
   ]
  },
  {
   "cell_type": "code",
   "execution_count": 3,
   "metadata": {},
   "outputs": [],
   "source": [
    "from skimage import feature"
   ]
  },
  {
   "cell_type": "code",
   "execution_count": 17,
   "metadata": {},
   "outputs": [
    {
     "name": "stderr",
     "output_type": "stream",
     "text": [
      "C:\\ProgramData\\Anaconda3\\lib\\site-packages\\skimage\\feature\\_hog.py:119: skimage_deprecation: Default value of `block_norm`==`L1` is deprecated and will be changed to `L2-Hys` in v0.15\n",
      "  'be changed to `L2-Hys` in v0.15', skimage_deprecation)\n"
     ]
    }
   ],
   "source": [
    "from skimage import feature\n",
    "hist = feature.hog(Y, orientations=9, pixels_per_cell=[4,4],cells_per_block=[2,2], transform_sqrt='normalize', block_norm='L1')\n"
   ]
  },
  {
   "cell_type": "code",
   "execution_count": 18,
   "metadata": {},
   "outputs": [],
   "source": [
    "#cv2.imshow('A',hist)\n",
    "#cv2.waitKey(0)\n",
    "#cv2.destroyAllWindows()"
   ]
  },
  {
   "cell_type": "code",
   "execution_count": 19,
   "metadata": {},
   "outputs": [
    {
     "data": {
      "text/plain": [
       "206172"
      ]
     },
     "execution_count": 19,
     "metadata": {},
     "output_type": "execute_result"
    }
   ],
   "source": [
    "len(hist)\n"
   ]
  },
  {
   "cell_type": "code",
   "execution_count": null,
   "metadata": {},
   "outputs": [],
   "source": []
  }
 ],
 "metadata": {
  "kernelspec": {
   "display_name": "Python 3",
   "language": "python",
   "name": "python3"
  },
  "language_info": {
   "codemirror_mode": {
    "name": "ipython",
    "version": 3
   },
   "file_extension": ".py",
   "mimetype": "text/x-python",
   "name": "python",
   "nbconvert_exporter": "python",
   "pygments_lexer": "ipython3",
   "version": "3.6.5"
  }
 },
 "nbformat": 4,
 "nbformat_minor": 2
}
