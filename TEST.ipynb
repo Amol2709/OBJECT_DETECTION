{
 "cells": [
  {
   "cell_type": "code",
   "execution_count": 1,
   "metadata": {},
   "outputs": [],
   "source": [
    "#rom AMOL.OBJECT_DETECTION.objectdetector import ObjectDetector\n",
    "from AMOL.DESCRIPTOR.hog import HOG\n",
    "#from pyimagesearch.utils import Conf\n",
    "import imutils\n",
    "#import argparse\n",
    "import pickle\n",
    "import cv2\n",
    "from AMOL.OBJECT_DETECTION import HELPERS"
   ]
  },
  {
   "cell_type": "code",
   "execution_count": 13,
   "metadata": {},
   "outputs": [],
   "source": [
    "import argparse\n",
    "#AP = argparse.ArgumentParser()\n",
    "#AP.add_argument(\"-FN\",\"--FOLDER_NAME\",required=True)\n",
    "#AP.add_argument(\"-i\",\"--image\",required=True)\n",
    "#AP.add_argument(\"-W\",\"--WIDTH\",required=True)\n",
    "#AP.add_argument(\"-H\",\"--HEIGHT\",required=True)\n",
    "#ARGS = vars(AP.parse_args())\n",
    "ARGS={'WIDTH':92,'HEIGHT':32,'FOLDER_NAME':'car_side','image':'TEST.jpg'}"
   ]
  },
  {
   "cell_type": "code",
   "execution_count": 14,
   "metadata": {},
   "outputs": [
    {
     "data": {
      "text/plain": [
       "dict"
      ]
     },
     "execution_count": 14,
     "metadata": {},
     "output_type": "execute_result"
    }
   ],
   "source": [
    "type(ARGS)"
   ]
  },
  {
   "cell_type": "code",
   "execution_count": 15,
   "metadata": {},
   "outputs": [],
   "source": [
    "hog = HOG(orientations=9, pixelsPerCell=(4,4),\n",
    "\tcellsPerBlock=(2,2), normalize=True)"
   ]
  },
  {
   "cell_type": "code",
   "execution_count": 16,
   "metadata": {},
   "outputs": [],
   "source": [
    "model3 = pickle.loads((open(\"output/cars/\"+ARGS[\"FOLDER_NAME\"], \"rb\").read()))"
   ]
  },
  {
   "cell_type": "code",
   "execution_count": 17,
   "metadata": {},
   "outputs": [],
   "source": [
    "image = cv2.imread(ARGS['image'])\n",
    "image = imutils.resize(image, width=min(260, image.shape[1]))\n",
    "gray = cv2.cvtColor(image, cv2.COLOR_BGR2GRAY)"
   ]
  },
  {
   "cell_type": "code",
   "execution_count": 21,
   "metadata": {},
   "outputs": [
    {
     "name": "stderr",
     "output_type": "stream",
     "text": [
      "C:\\ProgramData\\Anaconda3\\lib\\site-packages\\skimage\\feature\\_hog.py:119: skimage_deprecation: Default value of `block_norm`==`L1` is deprecated and will be changed to `L2-Hys` in v0.15\n",
      "  'be changed to `L2-Hys` in v0.15', skimage_deprecation)\n"
     ]
    }
   ],
   "source": [
    "# import the necessary packages\n",
    "from AMOL.OBJECT_DETECTION import HELPERS\n",
    "#def detect(image, winDim, winStep=4, pyramidScale=1.5, minProb=0.7):\n",
    "winDim = (int(ARGS['WIDTH']),int(ARGS['HEIGHT']))\n",
    "boxes = []\n",
    "probs = []\n",
    "for layer in HELPERS.pyramid(gray):\n",
    "    scale = image.shape[0] / float(layer.shape[0])\n",
    "    for (x, y, window) in HELPERS.sliding_window(layer, 4,winDim):\n",
    "        (winH, winW) = window.shape[:2]\n",
    "        if winH == winDim[1] and winW == winDim[0]:\n",
    "            features = hog.describe(window).reshape(-1,1)\n",
    "            features = features.reshape(1,features.shape[0])\n",
    "            #print(len(features),type(features))\n",
    "            prob = model3.predict_proba(features)[0][1]\n",
    "            if prob > 0.9:\n",
    "                (startX, startY) = (int(scale * x), int(scale * y))\n",
    "                endX = int(startX + (scale * winW))\n",
    "                endY = int(startY + (scale * winH))\n",
    "                boxes.append((startX, startY, endX, endY))\n",
    "                probs.append(prob)"
   ]
  },
  {
   "cell_type": "code",
   "execution_count": 28,
   "metadata": {},
   "outputs": [
    {
     "data": {
      "text/plain": [
       "array([[ 98, 111, 151, ...,  47,  48,  56],\n",
       "       [ 79,  83, 130, ...,  50,  50,  54],\n",
       "       [ 84,  88, 120, ...,  53,  51,  55],\n",
       "       ...,\n",
       "       [ 64,  65,  66, ...,  79,  81,  82],\n",
       "       [ 65,  66,  67, ...,  79,  81,  82],\n",
       "       [ 67,  67,  67, ...,  79,  81,  82]], dtype=uint8)"
      ]
     },
     "execution_count": 28,
     "metadata": {},
     "output_type": "execute_result"
    }
   ],
   "source": [
    "INDEX = probs.index(max(probs))\n",
    "cv2.rectangle(image, (boxes[INDEX][0], boxes[INDEX][1]), (boxes[INDEX][2], boxes[INDEX][3]), (0, 0, 255), 2)"
   ]
  },
  {
   "cell_type": "code",
   "execution_count": 29,
   "metadata": {},
   "outputs": [
    {
     "data": {
      "text/plain": [
       "-1"
      ]
     },
     "execution_count": 29,
     "metadata": {},
     "output_type": "execute_result"
    }
   ],
   "source": [
    "#cv2.imshow(\"Image\", gray)\n",
    "#cv2.waitKey(0)"
   ]
  },
  {
   "cell_type": "code",
   "execution_count": 23,
   "metadata": {},
   "outputs": [
    {
     "data": {
      "text/plain": [
       "-1"
      ]
     },
     "execution_count": 23,
     "metadata": {},
     "output_type": "execute_result"
    }
   ],
   "source": [
    "#for (startX, startY, endX, endY) in boxes[0:5]:\n",
    "#    cv2.rectangle(image, (startX, startY), (endX, endY), (0, 0, 255), 2)\n",
    "cv2.imshow(\"Image\", image)\n",
    "cv2.waitKey(0)"
   ]
  },
  {
   "cell_type": "code",
   "execution_count": null,
   "metadata": {},
   "outputs": [],
   "source": []
  }
 ],
 "metadata": {
  "kernelspec": {
   "display_name": "Python 3",
   "language": "python",
   "name": "python3"
  },
  "language_info": {
   "codemirror_mode": {
    "name": "ipython",
    "version": 3
   },
   "file_extension": ".py",
   "mimetype": "text/x-python",
   "name": "python",
   "nbconvert_exporter": "python",
   "pygments_lexer": "ipython3",
   "version": "3.6.5"
  }
 },
 "nbformat": 4,
 "nbformat_minor": 2
}
