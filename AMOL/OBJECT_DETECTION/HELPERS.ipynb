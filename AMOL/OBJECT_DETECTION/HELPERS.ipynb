{
 "cells": [
  {
   "cell_type": "code",
   "execution_count": 13,
   "metadata": {},
   "outputs": [],
   "source": [
    "import  imutils"
   ]
  },
  {
   "cell_type": "code",
   "execution_count": 14,
   "metadata": {},
   "outputs": [],
   "source": [
    "def PYRAMID(IMAGE):\n",
    "    scale =1.5\n",
    "    yield IMAGE\n",
    "    while True:\n",
    "        WIDTH = int(IMAGE.shape[1]/scale)\n",
    "        IMAGE = imutils.resize(IMAGE,width=WIDTH)\n",
    "        if IMAGE.shape[0] <=30 or IMAGE.shape[1]<=30:\n",
    "            break\n",
    "        yield IMAGE"
   ]
  },
  {
   "cell_type": "code",
   "execution_count": 15,
   "metadata": {},
   "outputs": [],
   "source": [
    "def SLIDING_WINDOW(IMAGE,stepsize,windowsize):\n",
    "    for y in range(0,IMAGE.shape[0]):\n",
    "        for x in range(0,IMAGE.shape[1]):\n",
    "            yield(y)"
   ]
  },
  {
   "cell_type": "code",
   "execution_count": 16,
   "metadata": {},
   "outputs": [],
   "source": [
    "import imutils\n",
    "import cv2\n",
    " \n",
    "def CROP(image, bb):\n",
    "# unpack the bounding box, extract the ROI from the image, while taking into account\n",
    "# the supplied offset\n",
    "    padding=10\n",
    "    dstSize=(32, 32)\n",
    "    (y, h, x, w) = bb\n",
    "    (x, y) = (max(x - padding, 0), max(y - padding, 0))\n",
    "    roi = image[y:h + padding, x:w + padding]\n",
    " # resize the ROI to the desired destination size\n",
    "    roi = cv2.resize(roi, dstSize, interpolation=cv2.INTER_AREA)\n",
    " # return the ROI\n",
    "    return roi\n"
   ]
  },
  {
   "cell_type": "code",
   "execution_count": null,
   "metadata": {},
   "outputs": [],
   "source": []
  },
  {
   "cell_type": "code",
   "execution_count": null,
   "metadata": {},
   "outputs": [],
   "source": []
  }
 ],
 "metadata": {
  "kernelspec": {
   "display_name": "Python 3",
   "language": "python",
   "name": "python3"
  },
  "language_info": {
   "codemirror_mode": {
    "name": "ipython",
    "version": 3
   },
   "file_extension": ".py",
   "mimetype": "text/x-python",
   "name": "python",
   "nbconvert_exporter": "python",
   "pygments_lexer": "ipython3",
   "version": "3.6.5"
  }
 },
 "nbformat": 4,
 "nbformat_minor": 2
}
