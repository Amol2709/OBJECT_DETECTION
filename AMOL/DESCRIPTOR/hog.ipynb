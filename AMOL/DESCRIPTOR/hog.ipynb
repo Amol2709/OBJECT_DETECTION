{
 "cells": [
  {
   "cell_type": "code",
   "execution_count": 3,
   "metadata": {},
   "outputs": [],
   "source": [
    "#def HOG(IMAGE):\n",
    "  #  from skimage import feature\n",
    "   # hist = feature.hog(IMAGE, orientations=9, pixels_per_cell=[4,4],cells_per_block=[2,2], transform_sqrt='normalize', block_norm='L1')\n",
    "   # return hist"
   ]
  },
  {
   "cell_type": "code",
   "execution_count": null,
   "metadata": {},
   "outputs": [],
   "source": [
    "# import the necessary packages\n",
    "from skimage import feature\n",
    "import skimage\n",
    "\n",
    "class HOG:\n",
    "\tdef __init__(self, orientations=12, pixelsPerCell=(4, 4), cellsPerBlock=(2, 2), normalize=True, block_norm=\"L1\"):\n",
    "\t\t# store the number of orientations, pixels per cell, cells per block, and\n",
    "\t\t# whether normalization should be applied to the image\n",
    "\t\tself.orientations = orientations\n",
    "\t\tself.pixelsPerCell = pixelsPerCell\n",
    "\t\tself.cellsPerBlock = cellsPerBlock\n",
    "\t\tself.normalize = normalize\n",
    "\t\tself.block_norm = block_norm\n",
    "\n",
    "\tdef describe(self, image):\n",
    "\t\t# compute Histogram of Oriented Gradients features for scikit-image < 0.13\n",
    "\t\tif int(skimage.__version__.split(\".\")[1]) < 13:\n",
    "\t\t\thist = feature.hog(image, orientations=self.orientations, pixels_per_cell=self.pixelsPerCell,\n",
    "\t\t\t\tcells_per_block=self.cellsPerBlock, transform_sqrt=self.normalize)\n",
    "\n",
    "\t\t# otherwise comput Histogram of Oriented Gradients features for scikit-image >= 0.13\n",
    "\t\telse:\n",
    "\t\t\thist = feature.hog(image, orientations=self.orientations, pixels_per_cell=self.pixelsPerCell,\n",
    "\t\t\t\tcells_per_block=self.cellsPerBlock, transform_sqrt=self.normalize, block_norm=self.block_norm)\n",
    "\n",
    "\n",
    "\t\thist[hist < 0] = 0\n",
    "\n",
    "\t\t# return the histogram\n",
    "\t\treturn hist"
   ]
  }
 ],
 "metadata": {
  "kernelspec": {
   "display_name": "Python 3",
   "language": "python",
   "name": "python3"
  },
  "language_info": {
   "codemirror_mode": {
    "name": "ipython",
    "version": 3
   },
   "file_extension": ".py",
   "mimetype": "text/x-python",
   "name": "python",
   "nbconvert_exporter": "python",
   "pygments_lexer": "ipython3",
   "version": "3.6.5"
  }
 },
 "nbformat": 4,
 "nbformat_minor": 2
}
